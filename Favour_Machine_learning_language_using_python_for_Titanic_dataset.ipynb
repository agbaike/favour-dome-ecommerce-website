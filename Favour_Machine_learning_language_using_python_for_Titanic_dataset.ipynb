{
  "nbformat": 4,
  "nbformat_minor": 0,
  "metadata": {
    "colab": {
      "provenance": [],
      "cell_execution_strategy": "setup",
      "authorship_tag": "ABX9TyNmmQ2n3BBIOY7ZM8jYTvWS",
      "include_colab_link": true
    },
    "kernelspec": {
      "name": "python3",
      "display_name": "Python 3"
    },
    "language_info": {
      "name": "python"
    }
  },
  "cells": [
    {
      "cell_type": "markdown",
      "metadata": {
        "id": "view-in-github",
        "colab_type": "text"
      },
      "source": [
        "<a href=\"https://colab.research.google.com/github/agbaike/favour-dome-ecommerce-website/blob/main/Favour_Machine_learning_language_using_python_for_Titanic_dataset.ipynb\" target=\"_parent\"><img src=\"https://colab.research.google.com/assets/colab-badge.svg\" alt=\"Open In Colab\"/></a>"
      ]
    },
    {
      "cell_type": "code",
      "source": [
        "import pandas as pd\n",
        "from sklearn.model_selection import train_test_split\n",
        "from sklearn.ensemble import RandomForestClassifier\n",
        "from sklearn.metrics import accuracy_score\n",
        "\n",
        "# Load the data\n",
        "file_path = '/content/titanic3 (1).xls'  # Path to the uploaded file\n",
        "df = pd.read_excel(file_path)\n",
        "\n",
        "# Print initial columns\n",
        "print(\"Initial columns:\", df.columns)\n",
        "\n",
        "# List of columns to drop\n",
        "columns_to_drop = ['name', 'ticket', 'cabin', 'boat', 'body', 'home.dest']\n",
        "\n",
        "# Check for column existence before dropping\n",
        "existing_columns_to_drop = [col for col in columns_to_drop if col in df.columns]\n",
        "df.drop(columns=existing_columns_to_drop, inplace=True)\n",
        "\n",
        "# Print columns after dropping unnecessary ones\n",
        "print(\"Columns after dropping unnecessary ones:\", df.columns)\n",
        "\n",
        "# Fill missing values only for columns that exist\n",
        "if 'age' in df.columns:\n",
        "    df['age'].fillna(df['age'].median(), inplace=True)\n",
        "if 'fare' in df.columns:\n",
        "    df['fare'].fillna(df['fare'].median(), inplace=True)\n",
        "if 'embarked' in df.columns:\n",
        "    df['embarked'].fillna(df['embarked'].mode()[0], inplace=True)\n",
        "\n",
        "# Convert categorical variables to numerical but keep original `sex` column\n",
        "df = pd.get_dummies(df, columns=['embarked'], drop_first=True)\n",
        "df['is_male'] = df['sex'].apply(lambda x: 1 if x == 'male' else 0)\n",
        "\n",
        "# Print columns after transformation\n",
        "print(\"Transformed columns:\", df.columns)\n"
      ],
      "metadata": {
        "colab": {
          "base_uri": "https://localhost:8080/"
        },
        "id": "-6tsIK5tU2RL",
        "outputId": "17e7be34-9feb-479f-83da-e59576ce6904"
      },
      "execution_count": null,
      "outputs": [
        {
          "output_type": "stream",
          "name": "stdout",
          "text": [
            "Initial columns: Index(['pclass', 'survived', 'name', 'sex', 'age', 'sibsp', 'parch', 'ticket',\n",
            "       'fare', 'cabin', 'embarked', 'boat', 'body', 'home.dest'],\n",
            "      dtype='object')\n",
            "Columns after dropping unnecessary ones: Index(['pclass', 'survived', 'sex', 'age', 'sibsp', 'parch', 'fare',\n",
            "       'embarked'],\n",
            "      dtype='object')\n",
            "Transformed columns: Index(['pclass', 'survived', 'sex', 'age', 'sibsp', 'parch', 'fare',\n",
            "       'embarked_Q', 'embarked_S', 'is_male'],\n",
            "      dtype='object')\n"
          ]
        }
      ]
    },
    {
      "cell_type": "code",
      "source": [
        "# Define the feature set and target variable\n",
        "X = df.drop(columns=['survived', 'sex'])  # Drop the original `sex` column\n",
        "y = df['survived']\n",
        "\n",
        "# Split the data into training and testing sets\n",
        "X_train, X_test, y_train, y_test = train_test_split(X, y, test_size=0.2, random_state=42)\n",
        "\n",
        "# Train the model\n",
        "model = RandomForestClassifier(n_estimators=100, random_state=42)\n",
        "model.fit(X_train, y_train)\n",
        "\n",
        "# Make predictions\n",
        "y_pred = model.predict(X_test)\n",
        "\n",
        "# Create a dataframe with actual and predicted values\n",
        "results = X_test.copy()\n",
        "results['Actual'] = y_test\n",
        "results['Predicted'] = y_pred\n",
        "\n",
        "# Save to CSV\n",
        "results.to_csv('/content/titanic_predictions.csv', index=False)\n",
        "\n",
        "# Print accuracy\n",
        "accuracy = accuracy_score(y_test, y_pred)\n",
        "print(f\"Model Accuracy: {accuracy}\")\n"
      ],
      "metadata": {
        "colab": {
          "base_uri": "https://localhost:8080/"
        },
        "id": "pi7Bm9jbVBYn",
        "outputId": "c9c5987c-b641-4bf0-d053-da9b3f87c2c9"
      },
      "execution_count": null,
      "outputs": [
        {
          "output_type": "stream",
          "name": "stdout",
          "text": [
            "Model Accuracy: 0.7862595419847328\n"
          ]
        }
      ]
    },
    {
      "cell_type": "code",
      "source": [
        "from google.colab import files\n",
        "files.download('/content/titanic_predictions.csv')\n"
      ],
      "metadata": {
        "colab": {
          "base_uri": "https://localhost:8080/",
          "height": 17
        },
        "id": "Un55sjtnZrIx",
        "outputId": "cd215eb2-6b50-47cd-9dd0-f5292878aa7a"
      },
      "execution_count": null,
      "outputs": [
        {
          "output_type": "display_data",
          "data": {
            "text/plain": [
              "<IPython.core.display.Javascript object>"
            ],
            "application/javascript": [
              "\n",
              "    async function download(id, filename, size) {\n",
              "      if (!google.colab.kernel.accessAllowed) {\n",
              "        return;\n",
              "      }\n",
              "      const div = document.createElement('div');\n",
              "      const label = document.createElement('label');\n",
              "      label.textContent = `Downloading \"${filename}\": `;\n",
              "      div.appendChild(label);\n",
              "      const progress = document.createElement('progress');\n",
              "      progress.max = size;\n",
              "      div.appendChild(progress);\n",
              "      document.body.appendChild(div);\n",
              "\n",
              "      const buffers = [];\n",
              "      let downloaded = 0;\n",
              "\n",
              "      const channel = await google.colab.kernel.comms.open(id);\n",
              "      // Send a message to notify the kernel that we're ready.\n",
              "      channel.send({})\n",
              "\n",
              "      for await (const message of channel.messages) {\n",
              "        // Send a message to notify the kernel that we're ready.\n",
              "        channel.send({})\n",
              "        if (message.buffers) {\n",
              "          for (const buffer of message.buffers) {\n",
              "            buffers.push(buffer);\n",
              "            downloaded += buffer.byteLength;\n",
              "            progress.value = downloaded;\n",
              "          }\n",
              "        }\n",
              "      }\n",
              "      const blob = new Blob(buffers, {type: 'application/binary'});\n",
              "      const a = document.createElement('a');\n",
              "      a.href = window.URL.createObjectURL(blob);\n",
              "      a.download = filename;\n",
              "      div.appendChild(a);\n",
              "      a.click();\n",
              "      div.remove();\n",
              "    }\n",
              "  "
            ]
          },
          "metadata": {}
        },
        {
          "output_type": "display_data",
          "data": {
            "text/plain": [
              "<IPython.core.display.Javascript object>"
            ],
            "application/javascript": [
              "download(\"download_4a5c9752-fe03-4946-9148-911f56f08d69\", \"titanic_predictions.csv\", 9050)"
            ]
          },
          "metadata": {}
        }
      ]
    }
  ]
}